{
 "cells": [
  {
   "cell_type": "code",
   "execution_count": 2,
   "metadata": {
    "executionInfo": {
     "elapsed": 4714,
     "status": "ok",
     "timestamp": 1701452414259,
     "user": {
      "displayName": "Hemanth Babu",
      "userId": "04889620377749764274"
     },
     "user_tz": -330
    },
    "id": "d4eZyHSqtO75"
   },
   "outputs": [],
   "source": [
    "import pandas as pd\n",
    "import matplotlib.pyplot as plt\n",
    "from sklearn.cluster import KMeans\n",
    "from sklearn.preprocessing import StandardScaler\n",
    "import warnings\n",
    "\n",
    "warnings.filterwarnings(\"ignore\")\n",
    "warnings.filterwarnings(\"ignore\", category=DeprecationWarning)"
   ]
  },
  {
   "cell_type": "code",
   "execution_count": 3,
   "metadata": {
    "colab": {
     "base_uri": "https://localhost:8080/",
     "height": 443
    },
    "executionInfo": {
     "elapsed": 17095,
     "status": "ok",
     "timestamp": 1701452498714,
     "user": {
      "displayName": "Hemanth Babu",
      "userId": "04889620377749764274"
     },
     "user_tz": -330
    },
    "id": "RqTDWZ1-drlB",
    "outputId": "71d280d9-36bd-4813-cee2-d9f223b9c3db"
   },
   "outputs": [
    {
     "data": {
      "text/html": [
       "<div>\n",
       "<style scoped>\n",
       "    .dataframe tbody tr th:only-of-type {\n",
       "        vertical-align: middle;\n",
       "    }\n",
       "\n",
       "    .dataframe tbody tr th {\n",
       "        vertical-align: top;\n",
       "    }\n",
       "\n",
       "    .dataframe thead th {\n",
       "        text-align: right;\n",
       "    }\n",
       "</style>\n",
       "<table border=\"1\" class=\"dataframe\">\n",
       "  <thead>\n",
       "    <tr style=\"text-align: right;\">\n",
       "      <th></th>\n",
       "      <th>id</th>\n",
       "      <th>age</th>\n",
       "      <th>hypertension</th>\n",
       "      <th>heart_disease</th>\n",
       "      <th>avg_glucose_level</th>\n",
       "      <th>bmi</th>\n",
       "      <th>gender_Female</th>\n",
       "      <th>gender_Male</th>\n",
       "      <th>gender_Other</th>\n",
       "      <th>ever_married_No</th>\n",
       "      <th>...</th>\n",
       "      <th>work_type_Private</th>\n",
       "      <th>work_type_Self-employed</th>\n",
       "      <th>work_type_children</th>\n",
       "      <th>Residence_type_Rural</th>\n",
       "      <th>Residence_type_Urban</th>\n",
       "      <th>smoking_status_Unknown</th>\n",
       "      <th>smoking_status_formerly smoked</th>\n",
       "      <th>smoking_status_never smoked</th>\n",
       "      <th>smoking_status_smokes</th>\n",
       "      <th>target</th>\n",
       "    </tr>\n",
       "  </thead>\n",
       "  <tbody>\n",
       "    <tr>\n",
       "      <th>0</th>\n",
       "      <td>9046</td>\n",
       "      <td>67.0</td>\n",
       "      <td>0</td>\n",
       "      <td>1</td>\n",
       "      <td>228.69</td>\n",
       "      <td>36.600000</td>\n",
       "      <td>0</td>\n",
       "      <td>1</td>\n",
       "      <td>0</td>\n",
       "      <td>0</td>\n",
       "      <td>...</td>\n",
       "      <td>1</td>\n",
       "      <td>0</td>\n",
       "      <td>0</td>\n",
       "      <td>0</td>\n",
       "      <td>1</td>\n",
       "      <td>0</td>\n",
       "      <td>1</td>\n",
       "      <td>0</td>\n",
       "      <td>0</td>\n",
       "      <td>1</td>\n",
       "    </tr>\n",
       "    <tr>\n",
       "      <th>1</th>\n",
       "      <td>51676</td>\n",
       "      <td>61.0</td>\n",
       "      <td>0</td>\n",
       "      <td>0</td>\n",
       "      <td>202.21</td>\n",
       "      <td>28.893237</td>\n",
       "      <td>1</td>\n",
       "      <td>0</td>\n",
       "      <td>0</td>\n",
       "      <td>0</td>\n",
       "      <td>...</td>\n",
       "      <td>0</td>\n",
       "      <td>1</td>\n",
       "      <td>0</td>\n",
       "      <td>1</td>\n",
       "      <td>0</td>\n",
       "      <td>0</td>\n",
       "      <td>0</td>\n",
       "      <td>1</td>\n",
       "      <td>0</td>\n",
       "      <td>1</td>\n",
       "    </tr>\n",
       "    <tr>\n",
       "      <th>2</th>\n",
       "      <td>31112</td>\n",
       "      <td>80.0</td>\n",
       "      <td>0</td>\n",
       "      <td>1</td>\n",
       "      <td>105.92</td>\n",
       "      <td>32.500000</td>\n",
       "      <td>0</td>\n",
       "      <td>1</td>\n",
       "      <td>0</td>\n",
       "      <td>0</td>\n",
       "      <td>...</td>\n",
       "      <td>1</td>\n",
       "      <td>0</td>\n",
       "      <td>0</td>\n",
       "      <td>1</td>\n",
       "      <td>0</td>\n",
       "      <td>0</td>\n",
       "      <td>0</td>\n",
       "      <td>1</td>\n",
       "      <td>0</td>\n",
       "      <td>1</td>\n",
       "    </tr>\n",
       "  </tbody>\n",
       "</table>\n",
       "<p>3 rows × 23 columns</p>\n",
       "</div>"
      ],
      "text/plain": [
       "      id   age  hypertension  heart_disease  avg_glucose_level        bmi  \\\n",
       "0   9046  67.0             0              1             228.69  36.600000   \n",
       "1  51676  61.0             0              0             202.21  28.893237   \n",
       "2  31112  80.0             0              1             105.92  32.500000   \n",
       "\n",
       "   gender_Female  gender_Male  gender_Other  ever_married_No  ...  \\\n",
       "0              0            1             0                0  ...   \n",
       "1              1            0             0                0  ...   \n",
       "2              0            1             0                0  ...   \n",
       "\n",
       "   work_type_Private  work_type_Self-employed  work_type_children  \\\n",
       "0                  1                        0                   0   \n",
       "1                  0                        1                   0   \n",
       "2                  1                        0                   0   \n",
       "\n",
       "   Residence_type_Rural  Residence_type_Urban  smoking_status_Unknown  \\\n",
       "0                     0                     1                       0   \n",
       "1                     1                     0                       0   \n",
       "2                     1                     0                       0   \n",
       "\n",
       "   smoking_status_formerly smoked  smoking_status_never smoked  \\\n",
       "0                               1                            0   \n",
       "1                               0                            1   \n",
       "2                               0                            1   \n",
       "\n",
       "   smoking_status_smokes  target  \n",
       "0                      0       1  \n",
       "1                      0       1  \n",
       "2                      0       1  \n",
       "\n",
       "[3 rows x 23 columns]"
      ]
     },
     "execution_count": 3,
     "metadata": {},
     "output_type": "execute_result"
    }
   ],
   "source": [
    "df = pd.read_csv(\"Heart_cleaned_data\")\n",
    "df.head(3)"
   ]
  },
  {
   "cell_type": "markdown",
   "metadata": {
    "id": "55TOs61tgVPN"
   },
   "source": [
    "# **A1**"
   ]
  },
  {
   "cell_type": "code",
   "execution_count": 4,
   "metadata": {
    "colab": {
     "base_uri": "https://localhost:8080/"
    },
    "executionInfo": {
     "elapsed": 3240,
     "status": "ok",
     "timestamp": 1701452513112,
     "user": {
      "displayName": "Hemanth Babu",
      "userId": "04889620377749764274"
     },
     "user_tz": -330
    },
    "id": "u8FfnQMbdgKD",
    "outputId": "a8d1eb39-443f-469b-84c7-599b4b54f90b"
   },
   "outputs": [
    {
     "name": "stdout",
     "output_type": "stream",
     "text": [
      "K=3 Inertia: 252009923351.78253\n",
      "K=5 Inertia: 90049697207.22433\n"
     ]
    }
   ],
   "source": [
    "# Identifying non-numeric columns\n",
    "x=df.drop(\"target\",axis=1)\n",
    "y=df[\"target\"]\n",
    "\n",
    "\n",
    "# K-means clustering with k = 3\n",
    "kmeans3 = KMeans(n_clusters=3)\n",
    "kmeans3.fit(x)\n",
    "\n",
    "# K-means clustering with k = 5\n",
    "kmeans5 = KMeans(n_clusters=5)\n",
    "kmeans5.fit(x)\n",
    "\n",
    "# Checking inertia or silhouette scores for evaluating the clustering\n",
    "print(\"K=3 Inertia:\", kmeans3.inertia_)\n",
    "print(\"K=5 Inertia:\", kmeans5.inertia_)"
   ]
  },
  {
   "cell_type": "markdown",
   "metadata": {
    "id": "kdeQe_shgS8e"
   },
   "source": [
    "# **A2**"
   ]
  },
  {
   "cell_type": "code",
   "execution_count": 5,
   "metadata": {
    "colab": {
     "base_uri": "https://localhost:8080/",
     "height": 1000
    },
    "executionInfo": {
     "elapsed": 58560,
     "status": "ok",
     "timestamp": 1701452595582,
     "user": {
      "displayName": "Hemanth Babu",
      "userId": "04889620377749764274"
     },
     "user_tz": -330
    },
    "id": "uXvztwB6eVN3",
    "outputId": "9a1b03b3-9173-4e8b-dc4d-75d149d5044e"
   },
   "outputs": [
    {
     "data": {
      "image/png": "[encoded data removed]",
      "text/plain": [
       "<Figure size 576x432 with 1 Axes>"
      ]
     },
     "metadata": {
      "needs_background": "light"
     },
     "output_type": "display_data"
    }
   ],
   "source": [
    "# Determining the ideal k value using the Elbow Method\n",
    "distortions = []\n",
    "K = range(1, 31)\n",
    "for k in K:\n",
    "    kmeans = KMeans(n_clusters=k)\n",
    "    kmeans.fit(x)\n",
    "    distortions.append(kmeans.inertia_)\n",
    "\n",
    "# Plotting the Elbow graph\n",
    "plt.figure(figsize=(8, 6))\n",
    "plt.plot(K, distortions, 'bx-')\n",
    "plt.xlabel('k')\n",
    "plt.ylabel('Average Distortion')\n",
    "plt.title('Elbow Method For Optimal k')\n",
    "plt.show()"
   ]
  },
  {
   "cell_type": "markdown",
   "metadata": {
    "id": "jMT2m6YSgQ8h"
   },
   "source": [
    "# **A3**"
   ]
  },
  {
   "cell_type": "code",
   "execution_count": 6,
   "metadata": {
    "colab": {
     "base_uri": "https://localhost:8080/",
     "height": 321
    },
    "executionInfo": {
     "elapsed": 15346,
     "status": "ok",
     "timestamp": 1701452800773,
     "user": {
      "displayName": "Hemanth Babu",
      "userId": "04889620377749764274"
     },
     "user_tz": -330
    },
    "id": "QMM9hrznepbI",
    "outputId": "a6ba5051-a16a-473a-e6ff-0878165aa4ac"
   },
   "outputs": [
    {
     "data": {
      "image/png": "[encoded data removed]",
      "text/plain": [
       "<Figure size 2160x504 with 1 Axes>"
      ]
     },
     "metadata": {
      "needs_background": "light"
     },
     "output_type": "display_data"
    }
   ],
   "source": [
    "import scipy.cluster.hierarchy as sch\n",
    "\n",
    "# Hierarchical clustering using Agglomerative Clustering\n",
    "plt.figure(figsize=(30, 7))\n",
    "dendrogram = sch.dendrogram(sch.linkage(x, method='ward'))\n",
    "plt.title('Dendrogram')\n",
    "plt.xlabel('Samples')\n",
    "plt.ylabel('Distance')\n",
    "plt.show()"
   ]
  },
  {
   "cell_type": "markdown",
   "metadata": {
    "id": "Hok8_GFygM9w"
   },
   "source": [
    "# **A4**"
   ]
  },
  {
   "cell_type": "code",
   "execution_count": 7,
   "metadata": {
    "executionInfo": {
     "elapsed": 11066,
     "status": "ok",
     "timestamp": 1701452853533,
     "user": {
      "displayName": "Hemanth Babu",
      "userId": "04889620377749764274"
     },
     "user_tz": -330
    },
    "id": "OsTBSlFZfVpQ"
   },
   "outputs": [],
   "source": [
    "from sklearn.feature_selection import SequentialFeatureSelector\n",
    "from sklearn.linear_model import LinearRegression\n",
    "from sklearn.preprocessing import StandardScaler\n",
    "# Separating features and target\n",
    "\n",
    "X = df.drop(columns=['target'])  # Features\n",
    "y = df['target']  # Target\n",
    "\n",
    "\n",
    "\n",
    "# Sequential Feature Selector\n",
    "selector = SequentialFeatureSelector(LinearRegression(), n_features_to_select=1)\n",
    "selector.fit(x, y)\n",
    "\n",
    "# Getting selected features\n",
    "selected_features = x.columns[selector.support_]\n"
   ]
  },
  {
   "cell_type": "code",
   "execution_count": 8,
   "metadata": {
    "colab": {
     "base_uri": "https://localhost:8080/"
    },
    "executionInfo": {
     "elapsed": 678,
     "status": "ok",
     "timestamp": 1701452854203,
     "user": {
      "displayName": "Hemanth Babu",
      "userId": "04889620377749764274"
     },
     "user_tz": -330
    },
    "id": "t84R27-SfZiJ",
    "outputId": "291da590-b382-4474-d366-df868d6af187"
   },
   "outputs": [
    {
     "name": "stdout",
     "output_type": "stream",
     "text": [
      "Number of features needed for 95% variance in PCA: 1\n"
     ]
    }
   ],
   "source": [
    "from sklearn.decomposition import PCA\n",
    "\n",
    "# Performing PCA on scaled data\n",
    "pca = PCA(n_components=0.95)  # Captures 95% of variance\n",
    "x_pca = pca.fit_transform(x)\n",
    "\n",
    "# Getting the no.of components/features needed for 95% variance\n",
    "num_features_for_95_variance = pca.n_components_\n",
    "\n",
    "# Printting the no.of components/features needed for 95% variance\n",
    "print(\"Number of features needed for 95% variance in PCA:\", num_features_for_95_variance)"
   ]
  },
  {
   "cell_type": "markdown",
   "metadata": {
    "id": "H3nOoZ5GgDIg"
   },
   "source": [
    "# **A5**"
   ]
  },
  {
   "cell_type": "code",
   "execution_count": 9,
   "metadata": {
    "colab": {
     "base_uri": "https://localhost:8080/"
    },
    "executionInfo": {
     "elapsed": 725,
     "status": "ok",
     "timestamp": 1701452861365,
     "user": {
      "displayName": "Hemanth Babu",
      "userId": "04889620377749764274"
     },
     "user_tz": -330
    },
    "id": "OezpsD4VfiT2",
    "outputId": "851b0cc5-62e9-4022-e8a8-1f98ca518ba1"
   },
   "outputs": [
    {
     "name": "stdout",
     "output_type": "stream",
     "text": [
      "Accuracy using transformed dataset: 0.9393346379647749\n"
     ]
    }
   ],
   "source": [
    "from sklearn.decomposition import PCA\n",
    "from sklearn.model_selection import train_test_split\n",
    "from sklearn.linear_model import LogisticRegression\n",
    "from sklearn.metrics import accuracy_score\n",
    "from sklearn.preprocessing import StandardScaler\n",
    "\n",
    "# PCA with K components\n",
    "K = 10  # Update with the desired number of components\n",
    "pca = PCA(n_components=K)\n",
    "X_pca = pca.fit_transform(x)\n",
    "\n",
    "# Splitting into training and testing sets\n",
    "X_train, X_test, y_train, y_test = train_test_split(x_pca, y, test_size=0.2, random_state=42)\n",
    "\n",
    "# Model (Logistic Regression as an example)\n",
    "model = LogisticRegression()\n",
    "model.fit(X_train, y_train)\n",
    "\n",
    "# Predicting\n",
    "y_pred = model.predict(X_test)\n",
    "\n",
    "# Calculating accuracy using the transformed dataset\n",
    "accuracy = accuracy_score(y_test, y_pred)\n",
    "print(\"Accuracy using transformed dataset:\", accuracy)"
   ]
  },
  {
   "cell_type": "code",
   "execution_count": null,
   "metadata": {},
   "outputs": [],
   "source": []
  }
 ],
 "metadata": {
  "colab": {
   "authorship_tag": "ABX9TyNo9EapyQ2kOlP8gIxrqQfW",
   "mount_file_id": "1xWI_8HDagLcherZrGxk7cy6-6weE1Mbe",
   "provenance": []
  },
  "kernelspec": {
   "display_name": "Python 3 (ipykernel)",
   "language": "python",
   "name": "python3"
  },
  "language_info": {
   "codemirror_mode": {
    "name": "ipython",
    "version": 3
   },
   "file_extension": ".py",
   "mimetype": "text/x-python",
   "name": "python",
   "nbconvert_exporter": "python",
   "pygments_lexer": "ipython3",
   "version": "3.10.6"
  }
 },
 "nbformat": 4,
 "nbformat_minor": 1
}
